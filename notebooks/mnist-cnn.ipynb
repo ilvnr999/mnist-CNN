{
 "cells": [
  {
   "cell_type": "code",
   "execution_count": null,
   "id": "cc65dc98",
   "metadata": {
    "execution": {
     "iopub.execute_input": "2025-04-23T13:55:00.966374Z",
     "iopub.status.busy": "2025-04-23T13:55:00.965868Z",
     "iopub.status.idle": "2025-04-23T13:55:06.905869Z",
     "shell.execute_reply": "2025-04-23T13:55:06.904964Z"
    },
    "papermill": {
     "duration": 5.945261,
     "end_time": "2025-04-23T13:55:06.907450",
     "exception": false,
     "start_time": "2025-04-23T13:55:00.962189",
     "status": "completed"
    },
    "tags": []
   },
   "outputs": [],
   "source": [
    "import torch\n",
    "import torch.nn as nn\n",
    "from torch.autograd import Variable\n",
    "from torch.utils.data import DataLoader, TensorDataset\n",
    "import torch.nn.functional as F\n",
    "import numpy as np\n",
    "import pandas as pd\n",
    "import matplotlib.pyplot as plt\n",
    "from sklearn.model_selection import train_test_split"
   ]
  },
  {
   "cell_type": "code",
   "execution_count": 3,
   "id": "884283ef",
   "metadata": {
    "execution": {
     "iopub.execute_input": "2025-04-23T13:55:06.915263Z",
     "iopub.status.busy": "2025-04-23T13:55:06.914888Z",
     "iopub.status.idle": "2025-04-23T13:55:07.013211Z",
     "shell.execute_reply": "2025-04-23T13:55:07.012365Z"
    },
    "papermill": {
     "duration": 0.103402,
     "end_time": "2025-04-23T13:55:07.014487",
     "exception": false,
     "start_time": "2025-04-23T13:55:06.911085",
     "status": "completed"
    },
    "tags": []
   },
   "outputs": [
    {
     "name": "stdout",
     "output_type": "stream",
     "text": [
      "cuda is available.\n"
     ]
    }
   ],
   "source": [
    "if torch.cuda.is_available():\n",
    "    device = torch.device(\"cuda\")\n",
    "    print(\"cuda is available.\")"
   ]
  },
  {
   "cell_type": "code",
   "execution_count": 4,
   "id": "7abb2af3",
   "metadata": {
    "execution": {
     "iopub.execute_input": "2025-04-23T13:55:07.021727Z",
     "iopub.status.busy": "2025-04-23T13:55:07.021344Z",
     "iopub.status.idle": "2025-04-23T13:55:10.721789Z",
     "shell.execute_reply": "2025-04-23T13:55:10.721064Z"
    },
    "papermill": {
     "duration": 3.705346,
     "end_time": "2025-04-23T13:55:10.722993",
     "exception": false,
     "start_time": "2025-04-23T13:55:07.017647",
     "status": "completed"
    },
    "tags": []
   },
   "outputs": [
    {
     "data": {
      "image/png": "[encoded data removed]",
      "text/plain": [
       "<Figure size 640x480 with 1 Axes>"
      ]
     },
     "metadata": {},
     "output_type": "display_data"
    }
   ],
   "source": [
    "train = pd.read_csv('/kaggle/input/digit-recognizer/train.csv', dtype = np.float32)\n",
    "\n",
    "# pd轉為numpy\n",
    "features_numpy = train.loc[:, train.columns != 'label'].to_numpy()/255 #正規化輸入feature\n",
    "targets_numpy = train['label'].to_numpy()\n",
    "#分割驗證集\n",
    "features_train, features_val, targets_train, targets_val = train_test_split(features_numpy, targets_numpy, test_size=0.2, random_state=0)\n",
    "#numpy轉為tensor\n",
    "featurestrain = torch.from_numpy(features_train)\n",
    "targetstrain = torch.from_numpy(targets_train).type(torch.LongTensor)\n",
    "featuresval = torch.from_numpy(features_val)\n",
    "targetsval = torch.from_numpy(targets_val).type(torch.LongTensor)\n",
    "\n",
    "batch_size = 100\n",
    "epochs = 30\n",
    "# DataLoader 前需透過TensorDataSet將X, y一個一個綁在一起\n",
    "train = TensorDataset(featurestrain, targetstrain)\n",
    "val = TensorDataset(featuresval, targetsval)\n",
    "# DataLoader\n",
    "train_loader = DataLoader(train, batch_size=batch_size, shuffle=False)\n",
    "val_loader = DataLoader(val, batch_size=batch_size, shuffle=False)\n",
    "\n",
    "plt.imshow(features_numpy[10].reshape(28, 28))\n",
    "plt.title(str(targets_numpy[10]))\n",
    "plt.show()"
   ]
  },
  {
   "cell_type": "code",
   "execution_count": 5,
   "id": "60cf5854",
   "metadata": {
    "execution": {
     "iopub.execute_input": "2025-04-23T13:55:10.730912Z",
     "iopub.status.busy": "2025-04-23T13:55:10.730391Z",
     "iopub.status.idle": "2025-04-23T13:55:15.366943Z",
     "shell.execute_reply": "2025-04-23T13:55:15.366081Z"
    },
    "papermill": {
     "duration": 4.641804,
     "end_time": "2025-04-23T13:55:15.368438",
     "exception": false,
     "start_time": "2025-04-23T13:55:10.726634",
     "status": "completed"
    },
    "tags": []
   },
   "outputs": [],
   "source": [
    "class CNNmodel(nn.Module):\n",
    "    def __init__(self):\n",
    "        super().__init__()\n",
    "        self.cnn1 = nn.Conv2d(in_channels=1, out_channels=16, kernel_size=5, stride=1, padding=0)\n",
    "        self.cnn2 = nn.Conv2d(in_channels=16, out_channels=32, kernel_size=5, stride=1, padding=0)\n",
    "        self.cf1 = nn.Linear(32*4*4, 10)\n",
    "\n",
    "    def forward(self, X):\n",
    "        a = self.cnn1(X)\n",
    "        a = F.relu(a)\n",
    "        a = F.max_pool2d(a, kernel_size=2)\n",
    "\n",
    "        a = self.cnn2(a)\n",
    "        a = F.relu(a)\n",
    "        a = F.max_pool2d(a, 2)\n",
    "\n",
    "        a = torch.flatten(a, start_dim=1) # 保留batch那個維度 從1維度開始攤平\n",
    "\n",
    "        out = self.cf1(a)\n",
    "        return out\n",
    "\n",
    "model = CNNmodel().to(device)\n",
    "learning_rate = 0.1\n",
    "\n",
    "error = nn.CrossEntropyLoss().to(device)\n",
    "optimizer = torch.optim.SGD(model.parameters(), lr=learning_rate)"
   ]
  },
  {
   "cell_type": "code",
   "execution_count": 6,
   "id": "b4aa7236",
   "metadata": {
    "execution": {
     "iopub.execute_input": "2025-04-23T13:55:15.376345Z",
     "iopub.status.busy": "2025-04-23T13:55:15.376016Z",
     "iopub.status.idle": "2025-04-23T13:55:44.013100Z",
     "shell.execute_reply": "2025-04-23T13:55:44.012326Z"
    },
    "papermill": {
     "duration": 28.642365,
     "end_time": "2025-04-23T13:55:44.014335",
     "exception": false,
     "start_time": "2025-04-23T13:55:15.371970",
     "status": "completed"
    },
    "tags": []
   },
   "outputs": [
    {
     "name": "stdout",
     "output_type": "stream",
     "text": [
      "iteration:100, loss:0.3523126244544983, acc:84.0%\n",
      "iteration:200, loss:0.17253424227237701, acc:89.5%\n",
      "iteration:300, loss:0.0944274365901947, acc:92.33333587646484%\n",
      "epoch1, val_loss:0.1284391519480518, val_acc:96.25%\n",
      "iteration:400, loss:0.12085872888565063, acc:96.0%\n",
      "iteration:500, loss:0.02799042873084545, acc:97.99999237060547%\n",
      "iteration:600, loss:0.07074142247438431, acc:97.66667175292969%\n",
      "epoch2, val_loss:0.09056743398486149, val_acc:97.29762268066406%\n",
      "iteration:700, loss:0.10902741551399231, acc:97.0%\n",
      "iteration:800, loss:0.04002562537789345, acc:97.99999237060547%\n",
      "iteration:900, loss:0.036784227937459946, acc:98.33333587646484%\n",
      "iteration:1000, loss:0.051364459097385406, acc:98.24999237060547%\n",
      "epoch3, val_loss:0.07639339723668638, val_acc:97.6547622680664%\n",
      "iteration:1100, loss:0.12892913818359375, acc:95.0%\n",
      "iteration:1200, loss:0.02708030305802822, acc:97.5%\n",
      "iteration:1300, loss:0.0817115306854248, acc:97.33333587646484%\n",
      "epoch4, val_loss:0.06720649332384623, val_acc:97.92857360839844%\n",
      "iteration:1400, loss:0.023517299443483353, acc:98.99999237060547%\n",
      "iteration:1500, loss:0.07678301632404327, acc:98.49999237060547%\n",
      "iteration:1600, loss:0.05541586875915527, acc:98.0%\n",
      "epoch5, val_loss:0.06129046511237642, val_acc:98.08333587646484%\n",
      "iteration:1700, loss:0.040612660348415375, acc:98.99999237060547%\n",
      "iteration:1800, loss:0.05580877140164375, acc:98.49999237060547%\n",
      "iteration:1900, loss:0.0545957088470459, acc:98.33333587646484%\n",
      "iteration:2000, loss:0.013709763064980507, acc:98.74999237060547%\n",
      "epoch6, val_loss:0.057903307994517185, val_acc:98.13095092773438%\n",
      "iteration:2100, loss:0.11663930118083954, acc:96.0%\n",
      "iteration:2200, loss:0.02864804118871689, acc:97.5%\n",
      "iteration:2300, loss:0.12990783154964447, acc:97.66667175292969%\n",
      "epoch7, val_loss:0.05546394963693317, val_acc:98.17857360839844%\n",
      "iteration:2400, loss:0.0077750165946781635, acc:100.0%\n",
      "iteration:2500, loss:0.023975297808647156, acc:99.5%\n",
      "iteration:2600, loss:0.03144696727395058, acc:99.33333587646484%\n",
      "epoch8, val_loss:0.05349401289519543, val_acc:98.28571319580078%\n",
      "iteration:2700, loss:0.021292012184858322, acc:98.99999237060547%\n",
      "iteration:2800, loss:0.015341904945671558, acc:99.5%\n",
      "iteration:2900, loss:0.08187318593263626, acc:99.33333587646484%\n",
      "iteration:3000, loss:0.018194641917943954, acc:99.5%\n",
      "epoch9, val_loss:0.05251000752295589, val_acc:98.38095092773438%\n",
      "iteration:3100, loss:0.03412296622991562, acc:98.99999237060547%\n",
      "iteration:3200, loss:0.0110510578379035, acc:99.5%\n",
      "iteration:3300, loss:0.02907976321876049, acc:99.66666412353516%\n",
      "epoch10, val_loss:0.051745758001093885, val_acc:98.38095092773438%\n",
      "iteration:3400, loss:0.009015354327857494, acc:100.0%\n",
      "iteration:3500, loss:0.004677876364439726, acc:100.0%\n",
      "iteration:3600, loss:0.009126953780651093, acc:100.0%\n",
      "epoch11, val_loss:0.05096257426581966, val_acc:98.44047546386719%\n",
      "iteration:3700, loss:0.016459451988339424, acc:100.0%\n",
      "iteration:3800, loss:0.021761717274785042, acc:99.5%\n",
      "iteration:3900, loss:0.05255603417754173, acc:99.33333587646484%\n",
      "iteration:4000, loss:0.037039391696453094, acc:98.99999237060547%\n",
      "epoch12, val_loss:0.049997721400965624, val_acc:98.51190185546875%\n",
      "iteration:4100, loss:0.038664862513542175, acc:97.99999237060547%\n",
      "iteration:4200, loss:0.009479999542236328, acc:98.99999237060547%\n",
      "iteration:4300, loss:0.022711243480443954, acc:99.0%\n",
      "epoch13, val_loss:0.0500266625451678, val_acc:98.5%\n",
      "iteration:4400, loss:0.04488636553287506, acc:97.99999237060547%\n",
      "iteration:4500, loss:0.010774480178952217, acc:98.99999237060547%\n",
      "iteration:4600, loss:0.0036716177128255367, acc:99.33333587646484%\n",
      "iteration:4700, loss:0.05421159416437149, acc:99.25%\n",
      "epoch14, val_loss:0.05027917772600804, val_acc:98.51190185546875%\n",
      "iteration:4800, loss:0.034888383001089096, acc:97.99999237060547%\n",
      "iteration:4900, loss:0.008562288247048855, acc:98.99999237060547%\n",
      "iteration:5000, loss:0.020536232739686966, acc:99.0%\n",
      "epoch15, val_loss:0.050423032633261755, val_acc:98.51190185546875%\n",
      "iteration:5100, loss:0.04025348648428917, acc:100.0%\n",
      "iteration:5200, loss:0.012346552684903145, acc:100.0%\n",
      "iteration:5300, loss:0.00589801836758852, acc:100.0%\n",
      "epoch16, val_loss:0.05072355784830593, val_acc:98.51190185546875%\n",
      "iteration:5400, loss:0.0022933571599423885, acc:100.0%\n",
      "iteration:5500, loss:0.013674183748662472, acc:99.5%\n",
      "iteration:5600, loss:0.0053320033475756645, acc:99.66666412353516%\n",
      "iteration:5700, loss:0.057486195117235184, acc:99.5%\n",
      "epoch17, val_loss:0.050757116599318884, val_acc:98.5238037109375%\n",
      "iteration:5800, loss:0.019567415118217468, acc:98.99999237060547%\n",
      "iteration:5900, loss:0.015594587661325932, acc:99.5%\n",
      "iteration:6000, loss:0.018821777775883675, acc:99.33333587646484%\n",
      "epoch18, val_loss:0.051272142153244375, val_acc:98.51190185546875%\n",
      "iteration:6100, loss:0.010649395175278187, acc:100.0%\n",
      "iteration:6200, loss:0.020944345742464066, acc:99.5%\n",
      "iteration:6300, loss:0.0033201456535607576, acc:99.66666412353516%\n",
      "epoch19, val_loss:0.051484498869935384, val_acc:98.5%\n",
      "iteration:6400, loss:0.0017413581954315305, acc:100.0%\n",
      "iteration:6500, loss:0.001798531273379922, acc:100.0%\n",
      "iteration:6600, loss:0.010868744924664497, acc:100.0%\n",
      "iteration:6700, loss:0.012284423224627972, acc:100.0%\n",
      "epoch20, val_loss:0.05173825225765107, val_acc:98.5238037109375%\n",
      "iteration:6800, loss:0.06363922357559204, acc:98.99999237060547%\n",
      "iteration:6900, loss:0.0006718632648698986, acc:99.5%\n",
      "iteration:7000, loss:0.0030189603567123413, acc:99.66666412353516%\n",
      "epoch21, val_loss:0.052275219482821524, val_acc:98.53571319580078%\n",
      "iteration:7100, loss:0.00845171045511961, acc:100.0%\n",
      "iteration:7200, loss:0.014765040017664433, acc:100.0%\n",
      "iteration:7300, loss:0.01342740748077631, acc:100.0%\n",
      "epoch22, val_loss:0.05254584247657996, val_acc:98.53571319580078%\n",
      "iteration:7400, loss:0.01860380917787552, acc:98.99999237060547%\n",
      "iteration:7500, loss:0.0027825357392430305, acc:99.5%\n",
      "iteration:7600, loss:0.0011337712639942765, acc:99.66666412353516%\n",
      "iteration:7700, loss:0.006010700482875109, acc:99.75%\n",
      "epoch23, val_loss:0.05305436633491246, val_acc:98.5238037109375%\n",
      "iteration:7800, loss:0.003194457618519664, acc:100.0%\n",
      "iteration:7900, loss:0.006292958278208971, acc:100.0%\n",
      "iteration:8000, loss:0.005854080896824598, acc:100.0%\n",
      "epoch24, val_loss:0.05335142553840775, val_acc:98.54762268066406%\n",
      "iteration:8100, loss:0.011586222797632217, acc:100.0%\n",
      "iteration:8200, loss:0.002449690131470561, acc:100.0%\n",
      "iteration:8300, loss:0.007868064567446709, acc:100.0%\n",
      "iteration:8400, loss:0.005411905236542225, acc:100.0%\n",
      "epoch25, val_loss:0.05385586859743593, val_acc:98.53571319580078%\n",
      "iteration:8500, loss:0.006185281090438366, acc:100.0%\n",
      "iteration:8600, loss:0.0020717314910143614, acc:100.0%\n",
      "iteration:8700, loss:0.00042622274486348033, acc:100.0%\n",
      "epoch26, val_loss:0.054114969601262906, val_acc:98.5238037109375%\n",
      "iteration:8800, loss:0.007192158605903387, acc:100.0%\n",
      "iteration:8900, loss:0.0022671569604426622, acc:100.0%\n",
      "iteration:9000, loss:0.00568433990702033, acc:100.0%\n",
      "epoch27, val_loss:0.05463213039253051, val_acc:98.53571319580078%\n",
      "iteration:9100, loss:0.010517826303839684, acc:100.0%\n",
      "iteration:9200, loss:0.0007525887340307236, acc:100.0%\n",
      "iteration:9300, loss:0.0022996007464826107, acc:100.0%\n",
      "iteration:9400, loss:0.003050127299502492, acc:100.0%\n",
      "epoch28, val_loss:0.055306197750594165, val_acc:98.5%\n",
      "iteration:9500, loss:0.004932068753987551, acc:100.0%\n",
      "iteration:9600, loss:0.003138035535812378, acc:100.0%\n",
      "iteration:9700, loss:0.0038479685317724943, acc:100.0%\n",
      "epoch29, val_loss:0.05568606901960309, val_acc:98.48809051513672%\n",
      "iteration:9800, loss:0.0007751841330900788, acc:100.0%\n",
      "iteration:9900, loss:0.002955810399726033, acc:100.0%\n",
      "iteration:10000, loss:0.0059111472219228745, acc:100.0%\n",
      "epoch30, val_loss:0.05613255409133715, val_acc:98.48809051513672%\n"
     ]
    }
   ],
   "source": [
    "count = 0\n",
    "train_loss_list = []\n",
    "train_acc_list = []\n",
    "val_loss_list =[]\n",
    "val_acc_list = []\n",
    "for epoch in range(epochs):\n",
    "    total = 0\n",
    "    correct = 0\n",
    "    for images, labels in train_loader:\n",
    "        X = Variable(images.reshape(-1, 1, 28, 28)).to(device) # CNN要確保輸入的batch, channel, width, height\n",
    "        y = Variable(labels).to(device)\n",
    "\n",
    "        optimizer.zero_grad()\n",
    "\n",
    "        outputs = model(X)\n",
    "\n",
    "        loss = error(outputs, y)\n",
    "\n",
    "        loss.backward()\n",
    "\n",
    "        optimizer.step()\n",
    "\n",
    "        count += 1\n",
    "\n",
    "        if count % 100 == 0:\n",
    "            total += len(y)\n",
    "            _, predicted = torch.max(outputs.data, axis=1)\n",
    "            correct += (predicted == y).sum()\n",
    "            acc = (100* (correct/total)).item()\n",
    "            print(f\"iteration:{count}, loss:{loss.item()}, acc:{acc}%\")\n",
    "        if count % 336 == 0:\n",
    "            train_loss_list.append(loss.item())\n",
    "            train_acc_list.append(acc)\n",
    "\n",
    "    val_loss = 0\n",
    "    val_total = 0\n",
    "    val_correct = 0\n",
    "    with torch.no_grad():\n",
    "        for images, labels in val_loader:\n",
    "            images = images.to(device)\n",
    "            labels = labels.to(device)\n",
    "            val_total += len(labels)\n",
    "            outputs = model(images.reshape(-1, 1, 28, 28)) # CNN要確保輸入的batch, channel, width, height\n",
    "            val_loss += error(outputs, labels).item()\n",
    "            _, predicted = torch.max(outputs.data, axis=1)\n",
    "            val_correct += (predicted == labels).sum()\n",
    "    avg_val_loss = val_loss / len(val_loader)\n",
    "    avg_val_acc = (100 * (val_correct / val_total)).item() # 因為有丟入device所以需要注意 GPU Tensor取值\n",
    "    val_loss_list.append(avg_val_loss)\n",
    "    val_acc_list.append(avg_val_acc)\n",
    "    print(f\"epoch{epoch + 1}, val_loss:{avg_val_loss}, val_acc:{avg_val_acc}%\")"
   ]
  },
  {
   "cell_type": "code",
   "execution_count": 7,
   "id": "08249045",
   "metadata": {
    "execution": {
     "iopub.execute_input": "2025-04-23T13:55:44.030532Z",
     "iopub.status.busy": "2025-04-23T13:55:44.030309Z",
     "iopub.status.idle": "2025-04-23T13:55:44.200374Z",
     "shell.execute_reply": "2025-04-23T13:55:44.199706Z"
    },
    "papermill": {
     "duration": 0.179136,
     "end_time": "2025-04-23T13:55:44.201479",
     "exception": false,
     "start_time": "2025-04-23T13:55:44.022343",
     "status": "completed"
    },
    "tags": []
   },
   "outputs": [
    {
     "data": {
      "image/png": "[encoded data removed]",
      "text/plain": [
       "<Figure size 640x480 with 1 Axes>"
      ]
     },
     "metadata": {},
     "output_type": "display_data"
    }
   ],
   "source": [
    "plt.plot(range(epochs), train_loss_list, label='training loss', color='blue')\n",
    "plt.plot(range(epochs), val_loss_list, label='validation loss', color='red')\n",
    "plt.legend()\n",
    "plt.xlabel(\"epoch\")\n",
    "plt.ylabel(\"loss\")\n",
    "plt.title(\"loss\")\n",
    "plt.show()"
   ]
  },
  {
   "cell_type": "code",
   "execution_count": 8,
   "id": "0db0ff7d",
   "metadata": {
    "execution": {
     "iopub.execute_input": "2025-04-23T13:55:44.217583Z",
     "iopub.status.busy": "2025-04-23T13:55:44.217358Z",
     "iopub.status.idle": "2025-04-23T13:55:44.395425Z",
     "shell.execute_reply": "2025-04-23T13:55:44.394636Z"
    },
    "papermill": {
     "duration": 0.187386,
     "end_time": "2025-04-23T13:55:44.396706",
     "exception": false,
     "start_time": "2025-04-23T13:55:44.209320",
     "status": "completed"
    },
    "tags": []
   },
   "outputs": [
    {
     "data": {
      "image/png": "[encoded data removed]",
      "text/plain": [
       "<Figure size 640x480 with 1 Axes>"
      ]
     },
     "metadata": {},
     "output_type": "display_data"
    }
   ],
   "source": [
    "plt.plot(range(epochs), train_acc_list, label=\"training accuracy\", color='blue')\n",
    "plt.plot(range(epochs), val_acc_list, label=\"validation\", color='red')\n",
    "plt.legend()\n",
    "plt.xlabel(\"epoch\")\n",
    "plt.ylabel(\"accuracy\")\n",
    "plt.title(\"accuracy\")\n",
    "plt.show()"
   ]
  },
  {
   "cell_type": "markdown",
   "id": "3be793c9",
   "metadata": {
    "papermill": {
     "duration": 0.007687,
     "end_time": "2025-04-23T13:55:44.412611",
     "exception": false,
     "start_time": "2025-04-23T13:55:44.404924",
     "status": "completed"
    },
    "tags": []
   },
   "source": [
    "train all training datasets"
   ]
  },
  {
   "cell_type": "code",
   "execution_count": 9,
   "id": "537bc082",
   "metadata": {
    "execution": {
     "iopub.execute_input": "2025-04-23T13:55:44.429721Z",
     "iopub.status.busy": "2025-04-23T13:55:44.429467Z",
     "iopub.status.idle": "2025-04-23T13:55:46.987322Z",
     "shell.execute_reply": "2025-04-23T13:55:46.986437Z"
    },
    "papermill": {
     "duration": 2.568151,
     "end_time": "2025-04-23T13:55:46.988913",
     "exception": false,
     "start_time": "2025-04-23T13:55:44.420762",
     "status": "completed"
    },
    "tags": []
   },
   "outputs": [],
   "source": [
    "df = pd.read_csv(\"/kaggle/input/digit-recognizer/train.csv\", dtype='float32')\n",
    "\n",
    "features_np = df.loc[:, df.columns != 'label'].to_numpy()/255\n",
    "targets_np = df['label'].to_numpy()\n",
    "\n",
    "X = torch.from_numpy(features_np)\n",
    "y = torch.from_numpy(targets_np).type(torch.LongTensor)\n",
    "\n",
    "\n",
    "batch_size = 100\n",
    "epochs = 30\n",
    "\n",
    "train = TensorDataset(X, y)\n",
    "\n",
    "train_loader = DataLoader(train, batch_size=batch_size, shuffle= False)\n"
   ]
  },
  {
   "cell_type": "code",
   "execution_count": 10,
   "id": "9c176691",
   "metadata": {
    "execution": {
     "iopub.execute_input": "2025-04-23T13:55:47.008032Z",
     "iopub.status.busy": "2025-04-23T13:55:47.007611Z",
     "iopub.status.idle": "2025-04-23T13:55:47.013206Z",
     "shell.execute_reply": "2025-04-23T13:55:47.012470Z"
    },
    "papermill": {
     "duration": 0.014897,
     "end_time": "2025-04-23T13:55:47.014285",
     "exception": false,
     "start_time": "2025-04-23T13:55:46.999388",
     "status": "completed"
    },
    "tags": []
   },
   "outputs": [],
   "source": [
    "model = CNNmodel().to(device)\n",
    "learning_rate = 0.1\n",
    "\n",
    "error = nn.CrossEntropyLoss().to(device)\n",
    "optimizer = torch.optim.SGD(model.parameters(), lr=learning_rate)"
   ]
  },
  {
   "cell_type": "code",
   "execution_count": 11,
   "id": "687fa09b",
   "metadata": {
    "execution": {
     "iopub.execute_input": "2025-04-23T13:55:47.030481Z",
     "iopub.status.busy": "2025-04-23T13:55:47.030277Z",
     "iopub.status.idle": "2025-04-23T13:56:17.965464Z",
     "shell.execute_reply": "2025-04-23T13:56:17.964809Z"
    },
    "papermill": {
     "duration": 30.944526,
     "end_time": "2025-04-23T13:56:17.966436",
     "exception": false,
     "start_time": "2025-04-23T13:55:47.021910",
     "status": "completed"
    },
    "tags": []
   },
   "outputs": [
    {
     "name": "stdout",
     "output_type": "stream",
     "text": [
      "iteration:100, loss:0.2806747257709503, acc:91.99999237060547%\n",
      "iteration:200, loss:0.25802910327911377, acc:90.5%\n",
      "iteration:300, loss:0.174051895737648, acc:91.33333587646484%\n",
      "iteration:400, loss:0.09271254390478134, acc:93.0%\n",
      "iteration:500, loss:0.09635669738054276, acc:97.0%\n",
      "iteration:600, loss:0.14923065900802612, acc:96.5%\n",
      "iteration:700, loss:0.12665994465351105, acc:96.0%\n",
      "iteration:800, loss:0.06857326626777649, acc:96.25%\n",
      "iteration:900, loss:0.07037315517663956, acc:97.99999237060547%\n",
      "iteration:1000, loss:0.11410868912935257, acc:97.5%\n",
      "iteration:1100, loss:0.1371501237154007, acc:97.0%\n",
      "iteration:1200, loss:0.021683000028133392, acc:97.75%\n",
      "iteration:1300, loss:0.07037107646465302, acc:97.0%\n",
      "iteration:1400, loss:0.09352418780326843, acc:96.5%\n",
      "iteration:1500, loss:0.04177058860659599, acc:97.33333587646484%\n",
      "iteration:1600, loss:0.010579274035990238, acc:97.99999237060547%\n",
      "iteration:1700, loss:0.0695965364575386, acc:97.0%\n",
      "iteration:1800, loss:0.0465281680226326, acc:97.5%\n",
      "iteration:1900, loss:0.05994081869721413, acc:97.66667175292969%\n",
      "iteration:2000, loss:0.07142898440361023, acc:97.75%\n",
      "iteration:2100, loss:0.014659697189927101, acc:98.0%\n",
      "iteration:2200, loss:0.03691302612423897, acc:98.99999237060547%\n",
      "iteration:2300, loss:0.04414999112486839, acc:98.49999237060547%\n",
      "iteration:2400, loss:0.06342528015375137, acc:97.66667175292969%\n",
      "iteration:2500, loss:0.03777410089969635, acc:97.99999237060547%\n",
      "iteration:2600, loss:0.03729714825749397, acc:98.99999237060547%\n",
      "iteration:2700, loss:0.07177028805017471, acc:98.99999237060547%\n",
      "iteration:2800, loss:0.027228832244873047, acc:99.33333587646484%\n",
      "iteration:2900, loss:0.007111185695976019, acc:99.5%\n",
      "iteration:3000, loss:0.024468112736940384, acc:98.99999237060547%\n",
      "iteration:3100, loss:0.08463818579912186, acc:97.99999237060547%\n",
      "iteration:3200, loss:0.10391620546579361, acc:98.33333587646484%\n",
      "iteration:3300, loss:0.0107736112549901, acc:98.74999237060547%\n",
      "iteration:3400, loss:0.046675194054841995, acc:97.99999237060547%\n",
      "iteration:3500, loss:0.05364224314689636, acc:97.99999237060547%\n",
      "iteration:3600, loss:0.016086213290691376, acc:98.66667175292969%\n",
      "iteration:3700, loss:0.0069135213270783424, acc:98.99999237060547%\n",
      "iteration:3800, loss:0.03314776346087456, acc:97.99999237060547%\n",
      "iteration:3900, loss:0.020957844331860542, acc:98.49999237060547%\n",
      "iteration:4000, loss:0.008664769120514393, acc:99.0%\n",
      "iteration:4100, loss:0.03651019185781479, acc:98.74999237060547%\n",
      "iteration:4200, loss:0.003927681595087051, acc:99.00000762939453%\n",
      "iteration:4300, loss:0.019955551251769066, acc:98.99999237060547%\n",
      "iteration:4400, loss:0.01927456445991993, acc:98.99999237060547%\n",
      "iteration:4500, loss:0.030186422169208527, acc:99.0%\n",
      "iteration:4600, loss:0.03346193954348564, acc:98.99999237060547%\n",
      "iteration:4700, loss:0.023479480296373367, acc:98.99999237060547%\n",
      "iteration:4800, loss:0.03639870136976242, acc:98.99999237060547%\n",
      "iteration:4900, loss:0.017176911234855652, acc:99.33333587646484%\n",
      "iteration:5000, loss:0.004627195652574301, acc:99.5%\n",
      "iteration:5100, loss:0.013877825811505318, acc:100.0%\n",
      "iteration:5200, loss:0.05063851922750473, acc:99.5%\n",
      "iteration:5300, loss:0.09054949134588242, acc:99.33333587646484%\n",
      "iteration:5400, loss:0.0031957405153661966, acc:99.5%\n",
      "iteration:5500, loss:0.02413496933877468, acc:98.99999237060547%\n",
      "iteration:5600, loss:0.030673887580633163, acc:98.99999237060547%\n",
      "iteration:5700, loss:0.00623827101662755, acc:99.33333587646484%\n",
      "iteration:5800, loss:0.004783324431627989, acc:99.5%\n",
      "iteration:5900, loss:0.01680203527212143, acc:100.0%\n",
      "iteration:6000, loss:0.013560219667851925, acc:100.0%\n",
      "iteration:6100, loss:0.0052920132875442505, acc:100.0%\n",
      "iteration:6200, loss:0.01699850708246231, acc:100.0%\n",
      "iteration:6300, loss:0.004135474096983671, acc:100.0%\n",
      "iteration:6400, loss:0.012441068887710571, acc:100.0%\n",
      "iteration:6500, loss:0.012096717022359371, acc:100.0%\n",
      "iteration:6600, loss:0.016118759289383888, acc:100.0%\n",
      "iteration:6700, loss:0.022735681384801865, acc:99.75%\n",
      "iteration:6800, loss:0.014597620815038681, acc:100.0%\n",
      "iteration:6900, loss:0.008117321878671646, acc:100.0%\n",
      "iteration:7000, loss:0.013476371765136719, acc:99.66666412353516%\n",
      "iteration:7100, loss:0.004057671409100294, acc:99.75%\n",
      "iteration:7200, loss:0.010880809277296066, acc:100.0%\n",
      "iteration:7300, loss:0.028319692239165306, acc:99.5%\n",
      "iteration:7400, loss:0.07332518696784973, acc:99.33333587646484%\n",
      "iteration:7500, loss:0.0018402552232146263, acc:99.5%\n",
      "iteration:7600, loss:0.017850495874881744, acc:100.0%\n",
      "iteration:7700, loss:0.013672667555510998, acc:99.5%\n",
      "iteration:7800, loss:0.0043822601437568665, acc:99.66666412353516%\n",
      "iteration:7900, loss:0.0024869146291166544, acc:99.75%\n",
      "iteration:8000, loss:0.012175534851849079, acc:100.0%\n",
      "iteration:8100, loss:0.00842494796961546, acc:100.0%\n",
      "iteration:8200, loss:0.0034862924367189407, acc:100.0%\n",
      "iteration:8300, loss:0.008482696488499641, acc:100.0%\n",
      "iteration:8400, loss:0.0031970301643013954, acc:100.0%\n",
      "iteration:8500, loss:0.009983972646296024, acc:100.0%\n",
      "iteration:8600, loss:0.009125156328082085, acc:100.0%\n",
      "iteration:8700, loss:0.010533178225159645, acc:100.0%\n",
      "iteration:8800, loss:0.015683414414525032, acc:99.75%\n",
      "iteration:8900, loss:0.007154849357903004, acc:100.0%\n",
      "iteration:9000, loss:0.003772819647565484, acc:100.0%\n",
      "iteration:9100, loss:0.011160130612552166, acc:99.66666412353516%\n",
      "iteration:9200, loss:0.002831656951457262, acc:99.75%\n",
      "iteration:9300, loss:0.009010897018015385, acc:100.0%\n",
      "iteration:9400, loss:0.017039598897099495, acc:99.5%\n",
      "iteration:9500, loss:0.060016900300979614, acc:99.33333587646484%\n",
      "iteration:9600, loss:0.0011078740935772657, acc:99.5%\n",
      "iteration:9700, loss:0.016889244318008423, acc:100.0%\n",
      "iteration:9800, loss:0.010721168480813503, acc:100.0%\n",
      "iteration:9900, loss:0.005072874017059803, acc:100.0%\n",
      "iteration:10000, loss:0.0019808418583124876, acc:100.0%\n",
      "iteration:10100, loss:0.009425420314073563, acc:100.0%\n",
      "iteration:10200, loss:0.005300201941281557, acc:100.0%\n",
      "iteration:10300, loss:0.0025728545151650906, acc:100.0%\n",
      "iteration:10400, loss:0.003693279577419162, acc:100.0%\n",
      "iteration:10500, loss:0.0011372562730684876, acc:100.0%\n",
      "iteration:10600, loss:0.00614433828741312, acc:100.0%\n",
      "iteration:10700, loss:0.005761770997196436, acc:100.0%\n",
      "iteration:10800, loss:0.007435029372572899, acc:100.0%\n",
      "iteration:10900, loss:0.011707323603332043, acc:100.0%\n",
      "iteration:11000, loss:0.005817454308271408, acc:100.0%\n",
      "iteration:11100, loss:0.001660307520069182, acc:100.0%\n",
      "iteration:11200, loss:0.006245485041290522, acc:100.0%\n",
      "iteration:11300, loss:0.0019833820406347513, acc:100.0%\n",
      "iteration:11400, loss:0.005792730487883091, acc:100.0%\n",
      "iteration:11500, loss:0.010410871356725693, acc:100.0%\n",
      "iteration:11600, loss:0.03429904580116272, acc:99.66666412353516%\n",
      "iteration:11700, loss:0.0007409524405375123, acc:99.75%\n",
      "iteration:11800, loss:0.010480922646820545, acc:100.0%\n",
      "iteration:11900, loss:0.004080004058778286, acc:100.0%\n",
      "iteration:12000, loss:0.0024153864942491055, acc:100.0%\n",
      "iteration:12100, loss:0.002250205958262086, acc:100.0%\n",
      "iteration:12200, loss:0.007224438712000847, acc:100.0%\n",
      "iteration:12300, loss:0.0033396470826119184, acc:100.0%\n",
      "iteration:12400, loss:0.0016914893640205264, acc:100.0%\n",
      "iteration:12500, loss:0.0024508170317858458, acc:100.0%\n",
      "iteration:12600, loss:0.00013926393876317888, acc:100.0%\n"
     ]
    }
   ],
   "source": [
    "count = 0\n",
    "train_loss_list = []\n",
    "train_acc_list = []\n",
    "for epoch in range(epochs):\n",
    "    total = 0\n",
    "    correct = 0\n",
    "    for images, labels in train_loader:\n",
    "        X = Variable(images.reshape(-1, 1, 28, 28)).to(device) # CNN要確保輸入的batch, channel, width, height\n",
    "        y = Variable(labels).to(device)\n",
    "\n",
    "        optimizer.zero_grad()\n",
    "\n",
    "        outputs = model(X)\n",
    "\n",
    "        loss = error(outputs, y)\n",
    "\n",
    "        loss.backward()\n",
    "\n",
    "        optimizer.step()\n",
    "\n",
    "        count += 1\n",
    "\n",
    "        if count % 100 == 0:\n",
    "            total += len(y)\n",
    "            _, predicted = torch.max(outputs.data, axis=1)\n",
    "            correct += (predicted == y).sum()\n",
    "            acc = (100* (correct/total)).item()\n",
    "            print(f\"iteration:{count}, loss:{loss.item()}, acc:{acc}%\")\n",
    "    train_loss_list.append(loss.item())\n",
    "    train_acc_list.append(acc)"
   ]
  },
  {
   "cell_type": "code",
   "execution_count": 12,
   "id": "2306423e",
   "metadata": {
    "execution": {
     "iopub.execute_input": "2025-04-23T13:56:17.994147Z",
     "iopub.status.busy": "2025-04-23T13:56:17.993632Z",
     "iopub.status.idle": "2025-04-23T13:56:18.134060Z",
     "shell.execute_reply": "2025-04-23T13:56:18.133393Z"
    },
    "papermill": {
     "duration": 0.155825,
     "end_time": "2025-04-23T13:56:18.135103",
     "exception": false,
     "start_time": "2025-04-23T13:56:17.979278",
     "status": "completed"
    },
    "tags": []
   },
   "outputs": [
    {
     "data": {
      "image/png": "[encoded data removed]",
      "text/plain": [
       "<Figure size 640x480 with 1 Axes>"
      ]
     },
     "metadata": {},
     "output_type": "display_data"
    }
   ],
   "source": [
    "plt.plot(range(epochs), train_loss_list)\n",
    "plt.xlabel(\"epoch\")\n",
    "plt.ylabel(\"loss\")\n",
    "plt.title(\"loss\")\n",
    "plt.show()"
   ]
  },
  {
   "cell_type": "code",
   "execution_count": 13,
   "id": "31dd255f",
   "metadata": {
    "execution": {
     "iopub.execute_input": "2025-04-23T13:56:18.161732Z",
     "iopub.status.busy": "2025-04-23T13:56:18.161170Z",
     "iopub.status.idle": "2025-04-23T13:56:18.320712Z",
     "shell.execute_reply": "2025-04-23T13:56:18.320046Z"
    },
    "papermill": {
     "duration": 0.173873,
     "end_time": "2025-04-23T13:56:18.321862",
     "exception": false,
     "start_time": "2025-04-23T13:56:18.147989",
     "status": "completed"
    },
    "tags": []
   },
   "outputs": [
    {
     "data": {
      "image/png": "[encoded data removed]",
      "text/plain": [
       "<Figure size 640x480 with 1 Axes>"
      ]
     },
     "metadata": {},
     "output_type": "display_data"
    }
   ],
   "source": [
    "plt.plot(range(epochs), train_acc_list, label=\"training accuracy\", color='blue')\n",
    "plt.legend()\n",
    "plt.xlabel(\"epoch\")\n",
    "plt.ylabel(\"accuracy\")\n",
    "plt.title(\"accuracy\")\n",
    "plt.show()"
   ]
  },
  {
   "cell_type": "code",
   "execution_count": 14,
   "id": "b3ee4a66",
   "metadata": {
    "execution": {
     "iopub.execute_input": "2025-04-23T13:56:18.349236Z",
     "iopub.status.busy": "2025-04-23T13:56:18.348819Z",
     "iopub.status.idle": "2025-04-23T13:56:20.183372Z",
     "shell.execute_reply": "2025-04-23T13:56:20.182422Z"
    },
    "papermill": {
     "duration": 1.850395,
     "end_time": "2025-04-23T13:56:20.185306",
     "exception": false,
     "start_time": "2025-04-23T13:56:18.334911",
     "status": "completed"
    },
    "tags": []
   },
   "outputs": [],
   "source": [
    "df_test = pd.read_csv(\"/kaggle/input/digit-recognizer/test.csv\", dtype='float32')\n",
    "\n",
    "features_np = df_test.to_numpy()/255\n",
    "\n",
    "test_X = torch.from_numpy(features_np)\n",
    "\n",
    "test = TensorDataset(test_X)\n",
    "\n",
    "test_loader = DataLoader(test, batch_size=64)"
   ]
  },
  {
   "cell_type": "code",
   "execution_count": 15,
   "id": "be303d65",
   "metadata": {
    "execution": {
     "iopub.execute_input": "2025-04-23T13:56:20.223850Z",
     "iopub.status.busy": "2025-04-23T13:56:20.223545Z",
     "iopub.status.idle": "2025-04-23T13:56:20.664197Z",
     "shell.execute_reply": "2025-04-23T13:56:20.663609Z"
    },
    "papermill": {
     "duration": 0.463301,
     "end_time": "2025-04-23T13:56:20.665465",
     "exception": false,
     "start_time": "2025-04-23T13:56:20.202164",
     "status": "completed"
    },
    "tags": []
   },
   "outputs": [],
   "source": [
    "model.eval()\n",
    "all_pred = []\n",
    "with torch.no_grad():\n",
    "    for (X,) in test_loader:\n",
    "        X = X.reshape(-1, 1, 28, 28).to(device)\n",
    "        outputs = model(X)\n",
    "        _, predict = torch.max(outputs.data, axis=1)\n",
    "        all_pred.extend(predict.cpu().numpy())"
   ]
  },
  {
   "cell_type": "code",
   "execution_count": 16,
   "id": "e1741e91",
   "metadata": {
    "execution": {
     "iopub.execute_input": "2025-04-23T13:56:20.692907Z",
     "iopub.status.busy": "2025-04-23T13:56:20.692626Z",
     "iopub.status.idle": "2025-04-23T13:56:20.765102Z",
     "shell.execute_reply": "2025-04-23T13:56:20.764593Z"
    },
    "papermill": {
     "duration": 0.087381,
     "end_time": "2025-04-23T13:56:20.766254",
     "exception": false,
     "start_time": "2025-04-23T13:56:20.678873",
     "status": "completed"
    },
    "tags": []
   },
   "outputs": [],
   "source": [
    "output_df = pd.DataFrame({'ImageID':range(1, len(all_pred)+1), 'Label':all_pred})\n",
    "output_df = output_df.set_index('ImageID') # 特別注意繳交檔案格式\n",
    "output_df.to_csv(\"output_pred.csv\")"
   ]
  },
  {
   "cell_type": "code",
   "execution_count": 17,
   "id": "a0a64dcf",
   "metadata": {
    "execution": {
     "iopub.execute_input": "2025-04-23T13:56:20.794058Z",
     "iopub.status.busy": "2025-04-23T13:56:20.793845Z",
     "iopub.status.idle": "2025-04-23T13:56:20.803340Z",
     "shell.execute_reply": "2025-04-23T13:56:20.802608Z"
    },
    "papermill": {
     "duration": 0.02415,
     "end_time": "2025-04-23T13:56:20.804366",
     "exception": false,
     "start_time": "2025-04-23T13:56:20.780216",
     "status": "completed"
    },
    "tags": []
   },
   "outputs": [
    {
     "data": {
      "text/plain": [
       "<bound method NDFrame.head of          Label\n",
       "ImageID       \n",
       "1            2\n",
       "2            0\n",
       "3            9\n",
       "4            9\n",
       "5            3\n",
       "...        ...\n",
       "27996        9\n",
       "27997        7\n",
       "27998        3\n",
       "27999        9\n",
       "28000        2\n",
       "\n",
       "[28000 rows x 1 columns]>"
      ]
     },
     "execution_count": 17,
     "metadata": {},
     "output_type": "execute_result"
    }
   ],
   "source": [
    "output_df.head"
   ]
  },
  {
   "cell_type": "code",
   "execution_count": null,
   "id": "1fadb47c",
   "metadata": {
    "papermill": {
     "duration": 0.013054,
     "end_time": "2025-04-23T13:56:20.831097",
     "exception": false,
     "start_time": "2025-04-23T13:56:20.818043",
     "status": "completed"
    },
    "tags": []
   },
   "outputs": [],
   "source": []
  }
 ],
 "metadata": {
  "kaggle": {
   "accelerator": "nvidiaTeslaT4",
   "dataSources": [
    {
     "databundleVersionId": 861823,
     "sourceId": 3004,
     "sourceType": "competition"
    }
   ],
   "dockerImageVersionId": 31011,
   "isGpuEnabled": true,
   "isInternetEnabled": false,
   "language": "python",
   "sourceType": "notebook"
  },
  "kernelspec": {
   "display_name": "Python 3",
   "language": "python",
   "name": "python3"
  },
  "language_info": {
   "codemirror_mode": {
    "name": "ipython",
    "version": 3
   },
   "file_extension": ".py",
   "mimetype": "text/x-python",
   "name": "python",
   "nbconvert_exporter": "python",
   "pygments_lexer": "ipython3",
   "version": "3.11.11"
  },
  "papermill": {
   "default_parameters": {},
   "duration": 88.37655,
   "end_time": "2025-04-23T13:56:23.443183",
   "environment_variables": {},
   "exception": null,
   "input_path": "__notebook__.ipynb",
   "output_path": "__notebook__.ipynb",
   "parameters": {},
   "start_time": "2025-04-23T13:54:55.066633",
   "version": "2.6.0"
  }
 },
 "nbformat": 4,
 "nbformat_minor": 5
}
